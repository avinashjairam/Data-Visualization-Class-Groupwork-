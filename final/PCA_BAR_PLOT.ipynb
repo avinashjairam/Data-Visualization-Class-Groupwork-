{
  "nbformat": 4,
  "nbformat_minor": 0,
  "metadata": {
    "colab": {
      "name": "PCA BAR PLOT.ipynb",
      "provenance": []
    },
    "kernelspec": {
      "name": "python3",
      "display_name": "Python 3"
    }
  },
  "cells": [
    {
      "cell_type": "code",
      "metadata": {
        "id": "VkxjghEQhX_W",
        "colab_type": "code",
        "outputId": "ad5b868a-57be-4938-8a6a-ae264259b19a",
        "colab": {
          "base_uri": "https://localhost:8080/",
          "height": 224
        }
      },
      "source": [
        "import pandas as pd\n",
        "df = pd.read_csv(filepath_or_buffer='https://raw.githubusercontent.com/avinashjairam/Data-Visualization-Class-Groupwork-/master/completeDatasetWalkingLevels.csv', header=None,sep=',')\n",
        "\n",
        "df.columns=['Date','Avinash_Steps','Juhan_Steps','Daniel_Steps','Viet_Steps','Avg_Steps','Avinash_Distance','Juhan_Distance','Daniel_Distance','Viet_Distance','Avg_Distance','Avg_Temperature','Humidty_Hours_Above_90','Avg_Wind_Speed','Precipitation','Air_Quality_Index_Value','activity_level']\n",
        "df.dropna(how=\"all\", inplace=True) # drops the empty line at file-end\n",
        "\n",
        "df.tail()"
      ],
      "execution_count": 0,
      "outputs": [
        {
          "output_type": "execute_result",
          "data": {
            "text/html": [
              "<div>\n",
              "<style scoped>\n",
              "    .dataframe tbody tr th:only-of-type {\n",
              "        vertical-align: middle;\n",
              "    }\n",
              "\n",
              "    .dataframe tbody tr th {\n",
              "        vertical-align: top;\n",
              "    }\n",
              "\n",
              "    .dataframe thead th {\n",
              "        text-align: right;\n",
              "    }\n",
              "</style>\n",
              "<table border=\"1\" class=\"dataframe\">\n",
              "  <thead>\n",
              "    <tr style=\"text-align: right;\">\n",
              "      <th></th>\n",
              "      <th>Date</th>\n",
              "      <th>Avinash_Steps</th>\n",
              "      <th>Juhan_Steps</th>\n",
              "      <th>Daniel_Steps</th>\n",
              "      <th>Viet_Steps</th>\n",
              "      <th>Avg_Steps</th>\n",
              "      <th>Avinash_Distance</th>\n",
              "      <th>Juhan_Distance</th>\n",
              "      <th>Daniel_Distance</th>\n",
              "      <th>Viet_Distance</th>\n",
              "      <th>Avg_Distance</th>\n",
              "      <th>Avg_Temperature</th>\n",
              "      <th>Humidty_Hours_Above_90</th>\n",
              "      <th>Avg_Wind_Speed</th>\n",
              "      <th>Precipitation</th>\n",
              "      <th>Air_Quality_Index_Value</th>\n",
              "      <th>activity_level</th>\n",
              "    </tr>\n",
              "  </thead>\n",
              "  <tbody>\n",
              "    <tr>\n",
              "      <th>361</th>\n",
              "      <td>10/27/2019</td>\n",
              "      <td>4329</td>\n",
              "      <td>804</td>\n",
              "      <td>7363</td>\n",
              "      <td>5835</td>\n",
              "      <td>4667</td>\n",
              "      <td>1.92</td>\n",
              "      <td>0.54</td>\n",
              "      <td>2.7</td>\n",
              "      <td>2.5</td>\n",
              "      <td>1.91</td>\n",
              "      <td>61</td>\n",
              "      <td>16</td>\n",
              "      <td>5</td>\n",
              "      <td>1.38</td>\n",
              "      <td>35</td>\n",
              "      <td>Sedentary</td>\n",
              "    </tr>\n",
              "    <tr>\n",
              "      <th>362</th>\n",
              "      <td>10/28/2019</td>\n",
              "      <td>10723</td>\n",
              "      <td>19110</td>\n",
              "      <td>7747</td>\n",
              "      <td>11716</td>\n",
              "      <td>12858</td>\n",
              "      <td>4.75</td>\n",
              "      <td>9.5</td>\n",
              "      <td>3</td>\n",
              "      <td>4.7</td>\n",
              "      <td>5.49</td>\n",
              "      <td>59</td>\n",
              "      <td>0</td>\n",
              "      <td>3.6</td>\n",
              "      <td>0</td>\n",
              "      <td>31</td>\n",
              "      <td>Highly Active</td>\n",
              "    </tr>\n",
              "    <tr>\n",
              "      <th>363</th>\n",
              "      <td>10/29/2019</td>\n",
              "      <td>101</td>\n",
              "      <td>13111</td>\n",
              "      <td>4662</td>\n",
              "      <td>11224</td>\n",
              "      <td>9666</td>\n",
              "      <td>0.04</td>\n",
              "      <td>6.6</td>\n",
              "      <td>1.7</td>\n",
              "      <td>4.5</td>\n",
              "      <td>3.21</td>\n",
              "      <td>56.5</td>\n",
              "      <td>15</td>\n",
              "      <td>4.2</td>\n",
              "      <td>0.07</td>\n",
              "      <td>31</td>\n",
              "      <td>Somewhat Active</td>\n",
              "    </tr>\n",
              "    <tr>\n",
              "      <th>364</th>\n",
              "      <td>10/30/2019</td>\n",
              "      <td>3356</td>\n",
              "      <td>2468</td>\n",
              "      <td>4373</td>\n",
              "      <td>12762</td>\n",
              "      <td>6534</td>\n",
              "      <td>1.49</td>\n",
              "      <td>1.31</td>\n",
              "      <td>1.6</td>\n",
              "      <td>5.1</td>\n",
              "      <td>2.37</td>\n",
              "      <td>60.5</td>\n",
              "      <td>24</td>\n",
              "      <td>3.3</td>\n",
              "      <td>0.06</td>\n",
              "      <td>38</td>\n",
              "      <td>Low Active</td>\n",
              "    </tr>\n",
              "    <tr>\n",
              "      <th>365</th>\n",
              "      <td>10/31/2019</td>\n",
              "      <td>189</td>\n",
              "      <td>6136</td>\n",
              "      <td>8350</td>\n",
              "      <td>12900</td>\n",
              "      <td>9129</td>\n",
              "      <td>0.08</td>\n",
              "      <td>3.42</td>\n",
              "      <td>3</td>\n",
              "      <td>5.1</td>\n",
              "      <td>2.9</td>\n",
              "      <td>65.5</td>\n",
              "      <td>18</td>\n",
              "      <td>6.1</td>\n",
              "      <td>0.54</td>\n",
              "      <td>44</td>\n",
              "      <td>Somewhat Active</td>\n",
              "    </tr>\n",
              "  </tbody>\n",
              "</table>\n",
              "</div>"
            ],
            "text/plain": [
              "           Date Avinash_Steps  ... Air_Quality_Index_Value   activity_level\n",
              "361  10/27/2019          4329  ...                      35        Sedentary\n",
              "362  10/28/2019         10723  ...                      31    Highly Active\n",
              "363  10/29/2019           101  ...                      31  Somewhat Active\n",
              "364  10/30/2019          3356  ...                      38       Low Active\n",
              "365  10/31/2019           189  ...                      44  Somewhat Active\n",
              "\n",
              "[5 rows x 17 columns]"
            ]
          },
          "metadata": {
            "tags": []
          },
          "execution_count": 27
        }
      ]
    },
    {
      "cell_type": "code",
      "metadata": {
        "id": "1nPua7pMhgl3",
        "colab_type": "code",
        "outputId": "fb9b7b47-1945-4cdd-f407-2da8d689b136",
        "colab": {
          "base_uri": "https://localhost:8080/",
          "height": 136
        }
      },
      "source": [
        "# split data table into data X and class labels y\n",
        "df=df.drop(df.index[0])\n",
        "X = df.iloc[:,11:16].values\n",
        "y = df.iloc[:,16].values\n",
        "print(X)"
      ],
      "execution_count": 0,
      "outputs": [
        {
          "output_type": "stream",
          "text": [
            "[['63.5' '0' '7.6' '0' '67']\n",
            " ['68' '6' '11.5' '0.22' '44']\n",
            " ['56.5' '10' '15.7' '0.37' '39']\n",
            " ...\n",
            " ['56.5' '15' '4.2' '0.07' '31']\n",
            " ['60.5' '24' '3.3' '0.06' '38']\n",
            " ['65.5' '18' '6.1' '0.54' '44']]\n"
          ],
          "name": "stdout"
        }
      ]
    },
    {
      "cell_type": "code",
      "metadata": {
        "id": "TRVDhUX_mK3T",
        "colab_type": "code",
        "colab": {}
      },
      "source": [
        "from sklearn.preprocessing import StandardScaler\n",
        "X_std = StandardScaler().fit_transform(X)\n",
        "X = StandardScaler().fit_transform(X)\n"
      ],
      "execution_count": 0,
      "outputs": []
    },
    {
      "cell_type": "code",
      "metadata": {
        "id": "oaUJjjDujRBG",
        "colab_type": "code",
        "outputId": "d90fd8e6-e549-445e-dc07-9cd89e36571f",
        "colab": {
          "base_uri": "https://localhost:8080/",
          "height": 119
        }
      },
      "source": [
        "import numpy as np\n",
        "mean_vec = np.mean(X_std, axis=0)\n",
        "cov_mat = (X_std - mean_vec).T.dot((X_std - mean_vec)) / (X_std.shape[0]-1)\n",
        "print('Covariance matrix \\n%s' %cov_mat)"
      ],
      "execution_count": 0,
      "outputs": [
        {
          "output_type": "stream",
          "text": [
            "Covariance matrix \n",
            "[[ 1.00274725  0.03633089 -0.68778386  0.01731353  0.3325006 ]\n",
            " [ 0.03633089  1.00274725  0.00996932  0.66060732 -0.12832315]\n",
            " [-0.68778386  0.00996932  1.00274725  0.09629132 -0.31237245]\n",
            " [ 0.01731353  0.66060732  0.09629132  1.00274725 -0.02514619]\n",
            " [ 0.3325006  -0.12832315 -0.31237245 -0.02514619  1.00274725]]\n"
          ],
          "name": "stdout"
        }
      ]
    },
    {
      "cell_type": "code",
      "metadata": {
        "id": "yA9TYhJnjbN1",
        "colab_type": "code",
        "outputId": "fdfac3a2-180f-4178-c0c8-1107410dcb73",
        "colab": {
          "base_uri": "https://localhost:8080/",
          "height": 170
        }
      },
      "source": [
        "cov_mat = np.cov(X_std.T)\n",
        "\n",
        "eig_vals, eig_vecs = np.linalg.eig(cov_mat)\n",
        "\n",
        "print('Eigenvectors \\n%s' %eig_vecs)\n",
        "print('\\nEigenvalues \\n%s' %eig_vals)"
      ],
      "execution_count": 0,
      "outputs": [
        {
          "output_type": "stream",
          "text": [
            "Eigenvectors \n",
            "[[ 0.59832768  0.23586909 -0.2626406   0.52533003  0.49134309]\n",
            " [-0.17947251  0.68338879 -0.07654831  0.40035072 -0.5784713 ]\n",
            " [-0.61126322 -0.15484036  0.3417629   0.5904182   0.37011647]\n",
            " [-0.19077514  0.67247206  0.20442735 -0.45865427  0.50914821]\n",
            " [ 0.4469404   0.03393119  0.8755386   0.0692118  -0.16653778]]\n",
            "\n",
            "Eigenvalues \n",
            "[1.93735476 1.65671099 0.7864197  0.28612542 0.3471254 ]\n"
          ],
          "name": "stdout"
        }
      ]
    },
    {
      "cell_type": "code",
      "metadata": {
        "id": "t7MeSKoyjnUK",
        "colab_type": "code",
        "outputId": "e45eb982-b522-44b4-8015-293b36f0831a",
        "colab": {
          "base_uri": "https://localhost:8080/",
          "height": 170
        }
      },
      "source": [
        "cor_mat1 = np.corrcoef(X_std.T)\n",
        "\n",
        "eig_vals, eig_vecs = np.linalg.eig(cor_mat1)\n",
        "\n",
        "print('Eigenvectors \\n%s' %eig_vecs)\n",
        "print('\\nEigenvalues \\n%s' %eig_vals)"
      ],
      "execution_count": 0,
      "outputs": [
        {
          "output_type": "stream",
          "text": [
            "Eigenvectors \n",
            "[[ 0.59832768  0.23586909 -0.2626406   0.52533003  0.49134309]\n",
            " [-0.17947251  0.68338879 -0.07654831  0.40035072 -0.5784713 ]\n",
            " [-0.61126322 -0.15484036  0.3417629   0.5904182   0.37011647]\n",
            " [-0.19077514  0.67247206  0.20442735 -0.45865427  0.50914821]\n",
            " [ 0.4469404   0.03393119  0.8755386   0.0692118  -0.16653778]]\n",
            "\n",
            "Eigenvalues \n",
            "[1.93204694 1.65217205 0.78426513 0.28534151 0.34617437]\n"
          ],
          "name": "stdout"
        }
      ]
    },
    {
      "cell_type": "code",
      "metadata": {
        "id": "XaNoNuDkjsNL",
        "colab_type": "code",
        "outputId": "a0246980-8462-42c2-f165-bad2555b738e",
        "colab": {
          "base_uri": "https://localhost:8080/",
          "height": 170
        }
      },
      "source": [
        "cor_mat2 = np.corrcoef(X.T)\n",
        "\n",
        "eig_vals, eig_vecs = np.linalg.eig(cor_mat2)\n",
        "\n",
        "print('Eigenvectors \\n%s' %eig_vecs)\n",
        "print('\\nEigenvalues \\n%s' %eig_vals)"
      ],
      "execution_count": 0,
      "outputs": [
        {
          "output_type": "stream",
          "text": [
            "Eigenvectors \n",
            "[[ 0.59832768  0.23586909 -0.2626406   0.52533003  0.49134309]\n",
            " [-0.17947251  0.68338879 -0.07654831  0.40035072 -0.5784713 ]\n",
            " [-0.61126322 -0.15484036  0.3417629   0.5904182   0.37011647]\n",
            " [-0.19077514  0.67247206  0.20442735 -0.45865427  0.50914821]\n",
            " [ 0.4469404   0.03393119  0.8755386   0.0692118  -0.16653778]]\n",
            "\n",
            "Eigenvalues \n",
            "[1.93204694 1.65217205 0.78426513 0.28534151 0.34617437]\n"
          ],
          "name": "stdout"
        }
      ]
    },
    {
      "cell_type": "code",
      "metadata": {
        "id": "1ssEr26Kj2nH",
        "colab_type": "code",
        "outputId": "879a6398-73c6-4677-c00b-5ca2bb5badde",
        "colab": {
          "base_uri": "https://localhost:8080/",
          "height": 102
        }
      },
      "source": [
        "u,s,v = np.linalg.svd(X_std.T)\n",
        "u"
      ],
      "execution_count": 0,
      "outputs": [
        {
          "output_type": "execute_result",
          "data": {
            "text/plain": [
              "array([[-0.59832768,  0.23586909, -0.2626406 ,  0.49134309,  0.52533003],\n",
              "       [ 0.17947251,  0.68338879, -0.07654831, -0.5784713 ,  0.40035072],\n",
              "       [ 0.61126322, -0.15484036,  0.3417629 ,  0.37011647,  0.5904182 ],\n",
              "       [ 0.19077514,  0.67247206,  0.20442735,  0.50914821, -0.45865427],\n",
              "       [-0.4469404 ,  0.03393119,  0.8755386 , -0.16653778,  0.0692118 ]])"
            ]
          },
          "metadata": {
            "tags": []
          },
          "execution_count": 42
        }
      ]
    },
    {
      "cell_type": "code",
      "metadata": {
        "id": "9FZ4lUDWj8wt",
        "colab_type": "code",
        "outputId": "2daf309c-ef07-4433-8fa5-82b21e7aa57f",
        "colab": {
          "base_uri": "https://localhost:8080/",
          "height": 34
        }
      },
      "source": [
        "for ev in eig_vecs:\n",
        "    np.testing.assert_array_almost_equal(1.0, np.linalg.norm(ev))\n",
        "print('Everything ok!')"
      ],
      "execution_count": 0,
      "outputs": [
        {
          "output_type": "stream",
          "text": [
            "Everything ok!\n"
          ],
          "name": "stdout"
        }
      ]
    },
    {
      "cell_type": "code",
      "metadata": {
        "id": "mWPuZOE0j-T7",
        "colab_type": "code",
        "outputId": "978dafa8-e8eb-4466-a7bc-39e411c4f312",
        "colab": {
          "base_uri": "https://localhost:8080/",
          "height": 119
        }
      },
      "source": [
        "# Make a list of (eigenvalue, eigenvector) tuples\n",
        "eig_pairs = [(np.abs(eig_vals[i]), eig_vecs[:,i]) for i in range(len(eig_vals))]\n",
        "\n",
        "# Sort the (eigenvalue, eigenvector) tuples from high to low\n",
        "eig_pairs.sort()\n",
        "eig_pairs.reverse()\n",
        "\n",
        "# Visually confirm that the list is correctly sorted by decreasing eigenvalues\n",
        "print('Eigenvalues in descending order:')\n",
        "for i in eig_pairs:\n",
        "    print(i[0])"
      ],
      "execution_count": 0,
      "outputs": [
        {
          "output_type": "stream",
          "text": [
            "Eigenvalues in descending order:\n",
            "1.9320469407690584\n",
            "1.6521720531702189\n",
            "0.7842651267844301\n",
            "0.34617436748789454\n",
            "0.2853415117883984\n"
          ],
          "name": "stdout"
        }
      ]
    },
    {
      "cell_type": "code",
      "metadata": {
        "id": "8VuQO8UjkDpi",
        "colab_type": "code",
        "outputId": "cb92a7cb-258a-46d1-8dba-eb619626fe5b",
        "colab": {
          "base_uri": "https://localhost:8080/",
          "height": 546
        }
      },
      "source": [
        "tot = sum(eig_vals)\n",
        "var_exp = [(i / tot)*100 for i in sorted(eig_vals, reverse=True)]\n",
        "cum_var_exp = np.cumsum(var_exp)\n",
        "\n",
        "trace1 = dict(\n",
        "    type='bar',\n",
        "    x=['PC %s' %i for i in range(1,6)],\n",
        "    y=var_exp,\n",
        "    name='Individual'\n",
        ")\n",
        "\n",
        "trace2 = dict(\n",
        "    type='scatter',\n",
        "    x=['PC %s' %i for i in range(1,6)], \n",
        "    y=cum_var_exp,\n",
        "    name='Cumulative'\n",
        ")\n",
        "\n",
        "data = [trace1, trace2]\n",
        "\n",
        "layout=dict(\n",
        "    title='Explained variance by different principal components',\n",
        "    yaxis=dict(\n",
        "        title='Explained variance in percent'\n",
        "    ),\n",
        "    annotations=list([\n",
        "        dict(\n",
        "            x=1.16,\n",
        "            y=1.05,\n",
        "            xref='paper',\n",
        "            yref='paper',\n",
        "            text='Explained Variance',\n",
        "            showarrow=False,\n",
        "        )\n",
        "    ])\n",
        ")\n",
        "\n",
        "fig = dict(data=data, layout=layout)\n",
        "py.iplot(fig, filename='selecting-principal-components')"
      ],
      "execution_count": 0,
      "outputs": [
        {
          "output_type": "execute_result",
          "data": {
            "text/html": [
              "\n",
              "        <iframe\n",
              "            width=\"100%\"\n",
              "            height=\"525px\"\n",
              "            src=\"https://plot.ly/~mike2j/4.embed\"\n",
              "            frameborder=\"0\"\n",
              "            allowfullscreen\n",
              "        ></iframe>\n",
              "        "
            ],
            "text/plain": [
              "<IPython.lib.display.IFrame at 0x7fcf6cd05fd0>"
            ]
          },
          "metadata": {
            "tags": []
          },
          "execution_count": 52
        }
      ]
    }
  ]
}